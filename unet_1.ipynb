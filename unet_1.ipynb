{
 "cells": [
  {
   "cell_type": "code",
   "execution_count": 1,
   "metadata": {},
   "outputs": [],
   "source": [
    "import tensorflow as tf\n",
    "import os\n",
    "import random\n",
    "import numpy as np\n",
    "from tqdm import tqdm \n",
    "from skimage.io import imread, imshow\n",
    "from skimage.transform import resize\n",
    "import matplotlib.pyplot as plt\n",
    "import glob"
   ]
  },
  {
   "cell_type": "code",
   "execution_count": 2,
   "metadata": {},
   "outputs": [],
   "source": [
    "seed = 42\n",
    "np.random.seed = seed"
   ]
  },
  {
   "cell_type": "code",
   "execution_count": 3,
   "metadata": {},
   "outputs": [],
   "source": [
    "IMG_WIDTH = 128\n",
    "IMG_HEIGHT = 128\n",
    "IMG_CHANNELS = 3"
   ]
  },
  {
   "cell_type": "code",
   "execution_count": 16,
   "metadata": {},
   "outputs": [],
   "source": [
    "TRAIN_PATH =  \"C:/Users/RAZER/Downloads/dataset/HAM/train/\"\n",
    "TEST_PATH = \"C:/Users/RAZER/Downloads/dataset/HAM/test/\"\n",
    "\n",
    "train_images_list = sorted(glob.glob(TRAIN_PATH+\"/images/*\"))\n",
    "train_mask_list = sorted(glob.glob(TRAIN_PATH+\"/mask/*\"))\n",
    "test_images_list = sorted(glob.glob(TEST_PATH+\"/images/*\"))\n",
    "test_mask_list = sorted(glob.glob(TEST_PATH+\"/mask/*\"))\n",
    "\n",
    "\n",
    "train_ids = next(os.walk(TRAIN_PATH))[1]\n",
    "test_ids = next(os.walk(TEST_PATH))[1]"
   ]
  },
  {
   "cell_type": "code",
   "execution_count": 22,
   "metadata": {},
   "outputs": [
    {
     "name": "stdout",
     "output_type": "stream",
     "text": [
      "C:/Users/RAZER/Downloads/dataset/HAM/train//images\\ISIC_0024306.jpg C:/Users/RAZER/Downloads/dataset/HAM/train//mask\\ISIC_0024306_segmentation.png\n",
      "C:/Users/RAZER/Downloads/dataset/HAM/train//images\\ISIC_0024308.jpg C:/Users/RAZER/Downloads/dataset/HAM/train//mask\\ISIC_0024308_segmentation.png\n",
      "C:/Users/RAZER/Downloads/dataset/HAM/train//images\\ISIC_0024309.jpg C:/Users/RAZER/Downloads/dataset/HAM/train//mask\\ISIC_0024309_segmentation.png\n",
      "C:/Users/RAZER/Downloads/dataset/HAM/train//images\\ISIC_0024319.jpg C:/Users/RAZER/Downloads/dataset/HAM/train//mask\\ISIC_0024319_segmentation.png\n",
      "C:/Users/RAZER/Downloads/dataset/HAM/train//images\\ISIC_0024320.jpg C:/Users/RAZER/Downloads/dataset/HAM/train//mask\\ISIC_0024320_segmentation.png\n",
      "C:/Users/RAZER/Downloads/dataset/HAM/train//images\\ISIC_0024322.jpg C:/Users/RAZER/Downloads/dataset/HAM/train//mask\\ISIC_0024322_segmentation.png\n",
      "C:/Users/RAZER/Downloads/dataset/HAM/train//images\\ISIC_0024323.jpg C:/Users/RAZER/Downloads/dataset/HAM/train//mask\\ISIC_0024323_segmentation.png\n",
      "C:/Users/RAZER/Downloads/dataset/HAM/train//images\\ISIC_0024325.jpg C:/Users/RAZER/Downloads/dataset/HAM/train//mask\\ISIC_0024325_segmentation.png\n",
      "C:/Users/RAZER/Downloads/dataset/HAM/train//images\\ISIC_0024326.jpg C:/Users/RAZER/Downloads/dataset/HAM/train//mask\\ISIC_0024326_segmentation.png\n",
      "C:/Users/RAZER/Downloads/dataset/HAM/train//images\\ISIC_0024329.jpg C:/Users/RAZER/Downloads/dataset/HAM/train//mask\\ISIC_0024329_segmentation.png\n"
     ]
    }
   ],
   "source": [
    "for i in range(10):\n",
    "    print(train_images_list[i],train_mask_list[i])"
   ]
  },
  {
   "cell_type": "code",
   "execution_count": 23,
   "metadata": {},
   "outputs": [
    {
     "name": "stdout",
     "output_type": "stream",
     "text": [
      "C:/Users/RAZER/Downloads/dataset/HAM/test//images\\ISIC_0024307.jpg C:/Users/RAZER/Downloads/dataset/HAM/test//mask\\ISIC_0024307_segmentation.png\n",
      "C:/Users/RAZER/Downloads/dataset/HAM/test//images\\ISIC_0024310.jpg C:/Users/RAZER/Downloads/dataset/HAM/test//mask\\ISIC_0024310_segmentation.png\n",
      "C:/Users/RAZER/Downloads/dataset/HAM/test//images\\ISIC_0024311.jpg C:/Users/RAZER/Downloads/dataset/HAM/test//mask\\ISIC_0024311_segmentation.png\n",
      "C:/Users/RAZER/Downloads/dataset/HAM/test//images\\ISIC_0024312.jpg C:/Users/RAZER/Downloads/dataset/HAM/test//mask\\ISIC_0024312_segmentation.png\n",
      "C:/Users/RAZER/Downloads/dataset/HAM/test//images\\ISIC_0024313.jpg C:/Users/RAZER/Downloads/dataset/HAM/test//mask\\ISIC_0024313_segmentation.png\n",
      "C:/Users/RAZER/Downloads/dataset/HAM/test//images\\ISIC_0024314.jpg C:/Users/RAZER/Downloads/dataset/HAM/test//mask\\ISIC_0024314_segmentation.png\n",
      "C:/Users/RAZER/Downloads/dataset/HAM/test//images\\ISIC_0024315.jpg C:/Users/RAZER/Downloads/dataset/HAM/test//mask\\ISIC_0024315_segmentation.png\n",
      "C:/Users/RAZER/Downloads/dataset/HAM/test//images\\ISIC_0024316.jpg C:/Users/RAZER/Downloads/dataset/HAM/test//mask\\ISIC_0024316_segmentation.png\n",
      "C:/Users/RAZER/Downloads/dataset/HAM/test//images\\ISIC_0024317.jpg C:/Users/RAZER/Downloads/dataset/HAM/test//mask\\ISIC_0024317_segmentation.png\n",
      "C:/Users/RAZER/Downloads/dataset/HAM/test//images\\ISIC_0024318.jpg C:/Users/RAZER/Downloads/dataset/HAM/test//mask\\ISIC_0024318_segmentation.png\n"
     ]
    }
   ],
   "source": [
    "for i in range(10):\n",
    "    print(test_images_list[i],test_mask_list[i])"
   ]
  },
  {
   "cell_type": "code",
   "execution_count": 24,
   "metadata": {},
   "outputs": [
    {
     "name": "stdout",
     "output_type": "stream",
     "text": [
      "8012 8012 2003 2003\n"
     ]
    }
   ],
   "source": [
    "print(len(train_images_list),len(train_mask_list),len(test_images_list),len(test_mask_list))"
   ]
  },
  {
   "cell_type": "code",
   "execution_count": 25,
   "metadata": {},
   "outputs": [],
   "source": [
    "l_train = len(train_images_list)\n",
    "l_test = len(test_images_list)"
   ]
  },
  {
   "cell_type": "code",
   "execution_count": 26,
   "metadata": {},
   "outputs": [
    {
     "name": "stderr",
     "output_type": "stream",
     "text": [
      "c:\\Users\\RAZER\\anaconda3\\envs\\Banded_krait\\lib\\site-packages\\ipykernel_launcher.py:2: DeprecationWarning: `np.bool` is a deprecated alias for the builtin `bool`. To silence this warning, use `bool` by itself. Doing this will not modify any behavior and is safe. If you specifically wanted the numpy scalar type, use `np.bool_` here.\n",
      "Deprecated in NumPy 1.20; for more details and guidance: https://numpy.org/devdocs/release/1.20.0-notes.html#deprecations\n",
      "  \n"
     ]
    }
   ],
   "source": [
    "X_train = np.zeros((l_train, IMG_HEIGHT, IMG_WIDTH, IMG_CHANNELS), dtype=np.uint8)\n",
    "Y_train = np.zeros((l_train, IMG_HEIGHT, IMG_WIDTH, 1), dtype=np.bool)\n",
    "X_test = np.zeros((l_test, IMG_HEIGHT, IMG_WIDTH, IMG_CHANNELS), dtype=np.uint8)\n",
    "Y_test = np.zeros((l_test, IMG_HEIGHT, IMG_WIDTH, IMG_CHANNELS), dtype=np.uint8)"
   ]
  },
  {
   "cell_type": "markdown",
   "metadata": {},
   "source": [
    "#Resizing Images"
   ]
  },
  {
   "cell_type": "markdown",
   "metadata": {},
   "source": [
    "**Train Images**"
   ]
  },
  {
   "cell_type": "code",
   "execution_count": 27,
   "metadata": {},
   "outputs": [
    {
     "name": "stdout",
     "output_type": "stream",
     "text": [
      "Resizing train images\n"
     ]
    },
    {
     "name": "stderr",
     "output_type": "stream",
     "text": [
      "100%|██████████| 8012/8012 [03:19<00:00, 40.23it/s]"
     ]
    },
    {
     "name": "stdout",
     "output_type": "stream",
     "text": [
      "Done!\n"
     ]
    },
    {
     "name": "stderr",
     "output_type": "stream",
     "text": [
      "\n"
     ]
    }
   ],
   "source": [
    "#sizes_train_images = []\n",
    "n = 0\n",
    "print('Resizing train images') \n",
    "for path in tqdm(train_images_list):\n",
    "    img = imread(path)[:,:,:IMG_CHANNELS]\n",
    "    #sizes_train_images.append([img.shape[0], img.shape[1]])\n",
    "    img = resize(img, (IMG_HEIGHT, IMG_WIDTH), mode='constant', preserve_range=True)\n",
    "    X_train[n] = img\n",
    "    n+=1\n",
    "\n",
    "print('Done!')"
   ]
  },
  {
   "cell_type": "markdown",
   "metadata": {},
   "source": [
    "**Train Mask**"
   ]
  },
  {
   "cell_type": "code",
   "execution_count": 30,
   "metadata": {},
   "outputs": [
    {
     "name": "stdout",
     "output_type": "stream",
     "text": [
      "Resizing train mask\n"
     ]
    },
    {
     "name": "stderr",
     "output_type": "stream",
     "text": [
      "  0%|          | 0/8012 [00:00<?, ?it/s]\n"
     ]
    },
    {
     "ename": "IndexError",
     "evalue": "too many indices for array: array is 2-dimensional, but 3 were indexed",
     "output_type": "error",
     "traceback": [
      "\u001b[1;31m---------------------------------------------------------------------------\u001b[0m",
      "\u001b[1;31mIndexError\u001b[0m                                Traceback (most recent call last)",
      "\u001b[1;32m~\\AppData\\Local\\Temp\\ipykernel_4700\\3025966725.py\u001b[0m in \u001b[0;36m<module>\u001b[1;34m\u001b[0m\n\u001b[0;32m      3\u001b[0m \u001b[0mprint\u001b[0m\u001b[1;33m(\u001b[0m\u001b[1;34m'Resizing train mask'\u001b[0m\u001b[1;33m)\u001b[0m\u001b[1;33m\u001b[0m\u001b[1;33m\u001b[0m\u001b[0m\n\u001b[0;32m      4\u001b[0m \u001b[1;32mfor\u001b[0m \u001b[0mpath\u001b[0m \u001b[1;32min\u001b[0m \u001b[0mtqdm\u001b[0m\u001b[1;33m(\u001b[0m\u001b[0mtrain_mask_list\u001b[0m\u001b[1;33m)\u001b[0m\u001b[1;33m:\u001b[0m\u001b[1;33m\u001b[0m\u001b[1;33m\u001b[0m\u001b[0m\n\u001b[1;32m----> 5\u001b[1;33m     \u001b[0mimg\u001b[0m \u001b[1;33m=\u001b[0m \u001b[0mimread\u001b[0m\u001b[1;33m(\u001b[0m\u001b[0mpath\u001b[0m\u001b[1;33m)\u001b[0m\u001b[1;33m[\u001b[0m\u001b[1;33m:\u001b[0m\u001b[1;33m,\u001b[0m\u001b[1;33m:\u001b[0m\u001b[1;33m,\u001b[0m\u001b[1;33m:\u001b[0m\u001b[0mIMG_CHANNELS\u001b[0m\u001b[1;33m]\u001b[0m\u001b[1;33m\u001b[0m\u001b[1;33m\u001b[0m\u001b[0m\n\u001b[0m\u001b[0;32m      6\u001b[0m     \u001b[1;31m#sizes_train_mask.append([img.shape[0], img.shape[1]])\u001b[0m\u001b[1;33m\u001b[0m\u001b[1;33m\u001b[0m\u001b[1;33m\u001b[0m\u001b[0m\n\u001b[0;32m      7\u001b[0m     \u001b[0mimg\u001b[0m \u001b[1;33m=\u001b[0m \u001b[0mresize\u001b[0m\u001b[1;33m(\u001b[0m\u001b[0mimg\u001b[0m\u001b[1;33m,\u001b[0m \u001b[1;33m(\u001b[0m\u001b[0mIMG_HEIGHT\u001b[0m\u001b[1;33m,\u001b[0m \u001b[0mIMG_WIDTH\u001b[0m\u001b[1;33m)\u001b[0m\u001b[1;33m,\u001b[0m \u001b[0mmode\u001b[0m\u001b[1;33m=\u001b[0m\u001b[1;34m'constant'\u001b[0m\u001b[1;33m,\u001b[0m \u001b[0mpreserve_range\u001b[0m\u001b[1;33m=\u001b[0m\u001b[1;32mTrue\u001b[0m\u001b[1;33m)\u001b[0m\u001b[1;33m\u001b[0m\u001b[1;33m\u001b[0m\u001b[0m\n",
      "\u001b[1;31mIndexError\u001b[0m: too many indices for array: array is 2-dimensional, but 3 were indexed"
     ]
    }
   ],
   "source": [
    "\n",
    "#sizes_train_mask = []\n",
    "n = 0\n",
    "print('Resizing train mask') \n",
    "for path in tqdm(train_mask_list):\n",
    "    img = imread(path)[:,:,:IMG_CHANNELS]\n",
    "    #sizes_train_mask.append([img.shape[0], img.shape[1]])\n",
    "    img = resize(img, (IMG_HEIGHT, IMG_WIDTH), mode='constant', preserve_range=True)\n",
    "    Y_train[n] = img\n",
    "    n+=1\n",
    "\n",
    "print('Done!')"
   ]
  },
  {
   "cell_type": "markdown",
   "metadata": {},
   "source": [
    "**Test Images**"
   ]
  },
  {
   "cell_type": "code",
   "execution_count": null,
   "metadata": {},
   "outputs": [],
   "source": [
    "#sizes_train_mask = []\n",
    "n = 0\n",
    "print('Resizing test images') \n",
    "for path in tqdm(test_images_list):\n",
    "    img = imread(path)[:,:,:IMG_CHANNELS]\n",
    "    #sizes_train_mask.append([img.shape[0], img.shape[1]])\n",
    "    img = resize(img, (IMG_HEIGHT, IMG_WIDTH), mode='constant', preserve_range=True)\n",
    "    X_test[n] = img\n",
    "    n+=1\n",
    "\n",
    "print('Done!')"
   ]
  },
  {
   "cell_type": "markdown",
   "metadata": {},
   "source": [
    "**Test Mask**"
   ]
  },
  {
   "cell_type": "code",
   "execution_count": null,
   "metadata": {},
   "outputs": [],
   "source": [
    "#sizes_train_mask = []\n",
    "n = 0\n",
    "print('Resizing test images') \n",
    "for path in tqdm(test_mask_list):\n",
    "    img = imread(path)[:,:,:IMG_CHANNELS]\n",
    "    #sizes_train_mask.append([img.shape[0], img.shape[1]])\n",
    "    img = resize(img, (IMG_HEIGHT, IMG_WIDTH), mode='constant', preserve_range=True)\n",
    "    Y_test[n] = img\n",
    "    n+=1\n",
    "\n",
    "print('Done!')"
   ]
  }
 ],
 "metadata": {
  "kernelspec": {
   "display_name": "Banded_krait",
   "language": "python",
   "name": "python3"
  },
  "language_info": {
   "codemirror_mode": {
    "name": "ipython",
    "version": 3
   },
   "file_extension": ".py",
   "mimetype": "text/x-python",
   "name": "python",
   "nbconvert_exporter": "python",
   "pygments_lexer": "ipython3",
   "version": "3.7.16"
  },
  "orig_nbformat": 4
 },
 "nbformat": 4,
 "nbformat_minor": 2
}
